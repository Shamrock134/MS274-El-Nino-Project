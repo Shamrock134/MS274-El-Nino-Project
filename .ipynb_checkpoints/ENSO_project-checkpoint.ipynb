{
 "cells": [
  {
   "cell_type": "markdown",
   "id": "832f6fff-2dc0-4490-ae66-a4a464f19515",
   "metadata": {},
   "source": [
    "# **This will contain the code for my ENSO project**"
   ]
  },
  {
   "cell_type": "markdown",
   "id": "30d368cb-8195-49f9-9b5d-8757d22272cb",
   "metadata": {},
   "source": [
    "## I will use SST and wind speed from satelite data and SST from in situ data"
   ]
  }
 ],
 "metadata": {
  "kernelspec": {
   "display_name": "Python 3 (ipykernel)",
   "language": "python",
   "name": "python3"
  },
  "language_info": {
   "codemirror_mode": {
    "name": "ipython",
    "version": 3
   },
   "file_extension": ".py",
   "mimetype": "text/x-python",
   "name": "python",
   "nbconvert_exporter": "python",
   "pygments_lexer": "ipython3",
   "version": "3.10.12"
  }
 },
 "nbformat": 4,
 "nbformat_minor": 5
}
