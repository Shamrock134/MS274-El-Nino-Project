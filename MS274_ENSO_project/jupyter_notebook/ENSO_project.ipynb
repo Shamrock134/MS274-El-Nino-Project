{
 "cells": [
  {
   "cell_type": "markdown",
   "id": "832f6fff-2dc0-4490-ae66-a4a464f19515",
   "metadata": {},
   "source": [
    "# This will contain the code for my ENSO project"
   ]
  },
  {
   "cell_type": "code",
   "execution_count": null,
   "id": "dc075332-9b55-4d3d-870c-45c8171896e5",
   "metadata": {},
   "outputs": [],
   "source": []
  }
 ],
 "metadata": {
  "kernelspec": {
   "display_name": "Python 3 (ipykernel)",
   "language": "python",
   "name": "python3"
  },
  "language_info": {
   "codemirror_mode": {
    "name": "ipython",
    "version": 3
   },
   "file_extension": ".py",
   "mimetype": "text/x-python",
   "name": "python",
   "nbconvert_exporter": "python",
   "pygments_lexer": "ipython3",
   "version": "3.10.12"
  }
 },
 "nbformat": 4,
 "nbformat_minor": 5
}
