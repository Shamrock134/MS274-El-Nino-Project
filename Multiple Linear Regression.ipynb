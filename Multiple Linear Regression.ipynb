{
 "cells": [
  {
   "cell_type": "markdown",
   "id": "6b944c7c-8308-4e5e-918e-9dd527a458d6",
   "metadata": {},
   "source": [
    "# Multiple Linear Regression\n",
    "A correlation can be viewed as a \"Linear Regression\" - how well one variable explains another. In this notebook, we will explore \"Multiple Linear Regression\" - a method to explore how a collection of variables explain the variability in another variable. \n",
    "\n",
    "#### Import the modules for this notebook"
   ]
  },
  {
   "cell_type": "code",
   "execution_count": 8,
   "id": "7797dd63-c9ff-4f06-9127-6345675b7e27",
   "metadata": {},
   "outputs": [],
   "source": [
    "# import the os, numpy, matplotlib and statsmodels.api modules\n",
    "import os\n",
    "import numpy as np\n",
    "import matplotlib.pyplot as plt\n",
    "import statsmodels.api as sm"
   ]
  },
  {
   "cell_type": "markdown",
   "id": "004c740b-bbf9-4007-8759-4a9017748206",
   "metadata": {},
   "source": [
    "### Read in the data\n",
    "Read in the temperature, wind, and chlorophyll-a concentration data."
   ]
  },
  {
   "cell_type": "code",
   "execution_count": 9,
   "id": "e0db9cab-d945-4f5c-a216-6e6582dd6f12",
   "metadata": {},
   "outputs": [
    {
     "name": "stdout",
     "output_type": "stream",
     "text": [
      "SST Shape (120, 2)\n",
      "Wind Shape (120, 2)\n",
      "Chlorphyll Shape (120, 2)\n"
     ]
    }
   ],
   "source": [
    "# define a path to the timeseries folder\n",
    "timeseries_folder = 'C:\\\\Users\\\\seamu\\\\ms274\\\\ms274_lab_13'\n",
    "\n",
    "# define a time step to use for the timeseries (daily or monthly)\n",
    "time_step = 'monthly'\n",
    "\n",
    "sst_timeseries = np.genfromtxt(timeseries_folder+'\\\\'+'SST_'+time_step+'_timeseries.csv', delimiter=',')\n",
    "\n",
    "# read in the wind timeseries\n",
    "wind_timeseries = np.genfromtxt(timeseries_folder+'\\\\'+'Wind_'+time_step+'_timeseries.csv', delimiter=',')\n",
    "\n",
    "# read in the chlorophyll timeseries\n",
    "chl_timeseries = np.genfromtxt(timeseries_folder+'\\\\'+'Chlorophyll_'+time_step+'_timeseries.csv', delimiter=',')\n",
    "\n",
    "# print the sizes of each time series\n",
    "print('SST Shape', np.shape(sst_timeseries))\n",
    "print('Wind Shape', np.shape(wind_timeseries))\n",
    "print('Chlorphyll Shape', np.shape(chl_timeseries))"
   ]
  },
  {
   "cell_type": "markdown",
   "id": "4c6b0775-b926-43ed-96f1-e83e26b43c7b",
   "metadata": {},
   "source": [
    "Subset the data to remove the NaNs"
   ]
  },
  {
   "cell_type": "code",
   "execution_count": 10,
   "id": "e9386221-30e1-45fa-9072-728e02a6c3c6",
   "metadata": {},
   "outputs": [],
   "source": [
    "# subset the data to remove the NaNs\n",
    "# compute the indices where the NaNs occur\n",
    "good_indices = ~np.isnan(chl_timeseries[:,1]) # ~ namkes this do the opposite\n",
    "\n",
    "# subset each timeseries to the non-NaN indicies\n",
    "sst_timeseries_subset = sst_timeseries[good_indices, :]\n",
    "wind_timeseries_subset = wind_timeseries[good_indices, :]\n",
    "chl_timeseries_subset = chl_timeseries[good_indices, :]"
   ]
  },
  {
   "cell_type": "markdown",
   "id": "8d9e3383-ccd8-487d-b4dd-65453f31c1ef",
   "metadata": {},
   "source": [
    "### Format the data for the multiple linear regression\n",
    "A multiple linear regression takes in two parameters - the design matrix $X$ as:\n",
    "$$\n",
    "X = \\begin{bmatrix} 1 & T_1 & S_1 \\\\ 1 & T_2 & S_2 \\\\ \\vdots & \\vdots & \\vdots \\\\1 & T_n & S_n \\end{bmatrix}\n",
    "$$\n",
    "And the variable to explain:\n",
    "$$\n",
    "y = \\begin{bmatrix} y_1 \\\\ y_2 \\\\ \\vdots \\\\ y_n \\end{bmatrix}\n",
    "$$\n",
    "Form these matrices below:"
   ]
  },
  {
   "cell_type": "code",
   "execution_count": 35,
   "id": "071ba841-d43c-4706-9b76-0900cfbde219",
   "metadata": {},
   "outputs": [
    {
     "name": "stdout",
     "output_type": "stream",
     "text": [
      "(101,)\n",
      "(101, 1)\n"
     ]
    }
   ],
   "source": [
    "# form the X variable\n",
    "X = np.column_stack([np.ones_like(sst_timeseries_subset[:,1]), sst_timeseries_subset[:,1], wind_timeseries_subset[:,1]])\n",
    "                            \n",
    "# form the y variable\n",
    "y = chl_timeseries_subset [:,1]\n",
    "print(np.shape(y))\n",
    "y = np.reshape(y, (len(y), 1))\n",
    "print(np.shape(y))\n"
   ]
  },
  {
   "cell_type": "markdown",
   "id": "d85356e0-940f-4df2-9d8f-e7d29a25b458",
   "metadata": {},
   "source": [
    "Copmute the multiple linear regression model:"
   ]
  },
  {
   "cell_type": "code",
   "execution_count": 34,
   "id": "a8fb0a23-faed-4da9-95bc-8122ab279988",
   "metadata": {},
   "outputs": [
    {
     "name": "stdout",
     "output_type": "stream",
     "text": [
      "<statsmodels.regression.linear_model.RegressionResultsWrapper object at 0x0000022BB03BEFE0>\n"
     ]
    }
   ],
   "source": [
    "# use the statsmodel OLS function to create a model\n",
    "# and compute the fit\n",
    "model = sm.OLS(y, X).fit()\n"
   ]
  },
  {
   "cell_type": "markdown",
   "id": "7db20837-9704-43bb-8b1f-c754b5d968a2",
   "metadata": {},
   "source": [
    "Print the model summary:"
   ]
  },
  {
   "cell_type": "code",
   "execution_count": 36,
   "id": "6c2129e3-1e19-4aab-9d18-51f33cc29465",
   "metadata": {},
   "outputs": [
    {
     "data": {
      "text/html": [
       "<table class=\"simpletable\">\n",
       "<caption>OLS Regression Results</caption>\n",
       "<tr>\n",
       "  <th>Dep. Variable:</th>            <td>y</td>        <th>  R-squared:         </th> <td>   0.387</td>\n",
       "</tr>\n",
       "<tr>\n",
       "  <th>Model:</th>                   <td>OLS</td>       <th>  Adj. R-squared:    </th> <td>   0.375</td>\n",
       "</tr>\n",
       "<tr>\n",
       "  <th>Method:</th>             <td>Least Squares</td>  <th>  F-statistic:       </th> <td>   31.00</td>\n",
       "</tr>\n",
       "<tr>\n",
       "  <th>Date:</th>             <td>Thu, 16 Nov 2023</td> <th>  Prob (F-statistic):</th> <td>3.71e-11</td>\n",
       "</tr>\n",
       "<tr>\n",
       "  <th>Time:</th>                 <td>13:52:24</td>     <th>  Log-Likelihood:    </th> <td>  11.798</td>\n",
       "</tr>\n",
       "<tr>\n",
       "  <th>No. Observations:</th>      <td>   101</td>      <th>  AIC:               </th> <td>  -17.60</td>\n",
       "</tr>\n",
       "<tr>\n",
       "  <th>Df Residuals:</th>          <td>    98</td>      <th>  BIC:               </th> <td>  -9.750</td>\n",
       "</tr>\n",
       "<tr>\n",
       "  <th>Df Model:</th>              <td>     2</td>      <th>                     </th>     <td> </td>   \n",
       "</tr>\n",
       "<tr>\n",
       "  <th>Covariance Type:</th>      <td>nonrobust</td>    <th>                     </th>     <td> </td>   \n",
       "</tr>\n",
       "</table>\n",
       "<table class=\"simpletable\">\n",
       "<tr>\n",
       "    <td></td>       <th>coef</th>     <th>std err</th>      <th>t</th>      <th>P>|t|</th>  <th>[0.025</th>    <th>0.975]</th>  \n",
       "</tr>\n",
       "<tr>\n",
       "  <th>const</th> <td>    4.4388</td> <td>    0.560</td> <td>    7.929</td> <td> 0.000</td> <td>    3.328</td> <td>    5.550</td>\n",
       "</tr>\n",
       "<tr>\n",
       "  <th>x1</th>    <td>   -0.1563</td> <td>    0.020</td> <td>   -7.835</td> <td> 0.000</td> <td>   -0.196</td> <td>   -0.117</td>\n",
       "</tr>\n",
       "<tr>\n",
       "  <th>x2</th>    <td>    0.0350</td> <td>    0.032</td> <td>    1.100</td> <td> 0.274</td> <td>   -0.028</td> <td>    0.098</td>\n",
       "</tr>\n",
       "</table>\n",
       "<table class=\"simpletable\">\n",
       "<tr>\n",
       "  <th>Omnibus:</th>       <td>60.381</td> <th>  Durbin-Watson:     </th> <td>   1.137</td>\n",
       "</tr>\n",
       "<tr>\n",
       "  <th>Prob(Omnibus):</th> <td> 0.000</td> <th>  Jarque-Bera (JB):  </th> <td> 211.333</td>\n",
       "</tr>\n",
       "<tr>\n",
       "  <th>Skew:</th>          <td> 2.134</td> <th>  Prob(JB):          </th> <td>1.29e-46</td>\n",
       "</tr>\n",
       "<tr>\n",
       "  <th>Kurtosis:</th>      <td> 8.657</td> <th>  Cond. No.          </th> <td>    715.</td>\n",
       "</tr>\n",
       "</table><br/><br/>Notes:<br/>[1] Standard Errors assume that the covariance matrix of the errors is correctly specified."
      ],
      "text/latex": [
       "\\begin{center}\n",
       "\\begin{tabular}{lclc}\n",
       "\\toprule\n",
       "\\textbf{Dep. Variable:}    &        y         & \\textbf{  R-squared:         } &     0.387   \\\\\n",
       "\\textbf{Model:}            &       OLS        & \\textbf{  Adj. R-squared:    } &     0.375   \\\\\n",
       "\\textbf{Method:}           &  Least Squares   & \\textbf{  F-statistic:       } &     31.00   \\\\\n",
       "\\textbf{Date:}             & Thu, 16 Nov 2023 & \\textbf{  Prob (F-statistic):} &  3.71e-11   \\\\\n",
       "\\textbf{Time:}             &     13:52:24     & \\textbf{  Log-Likelihood:    } &    11.798   \\\\\n",
       "\\textbf{No. Observations:} &         101      & \\textbf{  AIC:               } &    -17.60   \\\\\n",
       "\\textbf{Df Residuals:}     &          98      & \\textbf{  BIC:               } &    -9.750   \\\\\n",
       "\\textbf{Df Model:}         &           2      & \\textbf{                     } &             \\\\\n",
       "\\textbf{Covariance Type:}  &    nonrobust     & \\textbf{                     } &             \\\\\n",
       "\\bottomrule\n",
       "\\end{tabular}\n",
       "\\begin{tabular}{lcccccc}\n",
       "               & \\textbf{coef} & \\textbf{std err} & \\textbf{t} & \\textbf{P$> |$t$|$} & \\textbf{[0.025} & \\textbf{0.975]}  \\\\\n",
       "\\midrule\n",
       "\\textbf{const} &       4.4388  &        0.560     &     7.929  &         0.000        &        3.328    &        5.550     \\\\\n",
       "\\textbf{x1}    &      -0.1563  &        0.020     &    -7.835  &         0.000        &       -0.196    &       -0.117     \\\\\n",
       "\\textbf{x2}    &       0.0350  &        0.032     &     1.100  &         0.274        &       -0.028    &        0.098     \\\\\n",
       "\\bottomrule\n",
       "\\end{tabular}\n",
       "\\begin{tabular}{lclc}\n",
       "\\textbf{Omnibus:}       & 60.381 & \\textbf{  Durbin-Watson:     } &    1.137  \\\\\n",
       "\\textbf{Prob(Omnibus):} &  0.000 & \\textbf{  Jarque-Bera (JB):  } &  211.333  \\\\\n",
       "\\textbf{Skew:}          &  2.134 & \\textbf{  Prob(JB):          } & 1.29e-46  \\\\\n",
       "\\textbf{Kurtosis:}      &  8.657 & \\textbf{  Cond. No.          } &     715.  \\\\\n",
       "\\bottomrule\n",
       "\\end{tabular}\n",
       "%\\caption{OLS Regression Results}\n",
       "\\end{center}\n",
       "\n",
       "Notes: \\newline\n",
       " [1] Standard Errors assume that the covariance matrix of the errors is correctly specified."
      ],
      "text/plain": [
       "<class 'statsmodels.iolib.summary.Summary'>\n",
       "\"\"\"\n",
       "                            OLS Regression Results                            \n",
       "==============================================================================\n",
       "Dep. Variable:                      y   R-squared:                       0.387\n",
       "Model:                            OLS   Adj. R-squared:                  0.375\n",
       "Method:                 Least Squares   F-statistic:                     31.00\n",
       "Date:                Thu, 16 Nov 2023   Prob (F-statistic):           3.71e-11\n",
       "Time:                        13:52:24   Log-Likelihood:                 11.798\n",
       "No. Observations:                 101   AIC:                            -17.60\n",
       "Df Residuals:                      98   BIC:                            -9.750\n",
       "Df Model:                           2                                         \n",
       "Covariance Type:            nonrobust                                         \n",
       "==============================================================================\n",
       "                 coef    std err          t      P>|t|      [0.025      0.975]\n",
       "------------------------------------------------------------------------------\n",
       "const          4.4388      0.560      7.929      0.000       3.328       5.550\n",
       "x1            -0.1563      0.020     -7.835      0.000      -0.196      -0.117\n",
       "x2             0.0350      0.032      1.100      0.274      -0.028       0.098\n",
       "==============================================================================\n",
       "Omnibus:                       60.381   Durbin-Watson:                   1.137\n",
       "Prob(Omnibus):                  0.000   Jarque-Bera (JB):              211.333\n",
       "Skew:                           2.134   Prob(JB):                     1.29e-46\n",
       "Kurtosis:                       8.657   Cond. No.                         715.\n",
       "==============================================================================\n",
       "\n",
       "Notes:\n",
       "[1] Standard Errors assume that the covariance matrix of the errors is correctly specified.\n",
       "\"\"\""
      ]
     },
     "execution_count": 36,
     "metadata": {},
     "output_type": "execute_result"
    }
   ],
   "source": [
    "model.summary()"
   ]
  },
  {
   "cell_type": "markdown",
   "id": "9e2d967b-30c1-4fbe-aa67-0648dc4a4a97",
   "metadata": {},
   "source": [
    "### Retrieve the coefficients and the R$^2$ values from the model"
   ]
  },
  {
   "cell_type": "code",
   "execution_count": 37,
   "id": "bc2b76b3-96e9-4e55-aacc-4b9b67faf192",
   "metadata": {},
   "outputs": [
    {
     "name": "stdout",
     "output_type": "stream",
     "text": [
      "[ 4.43881282 -0.15625592  0.035     ]\n"
     ]
    }
   ],
   "source": [
    "# retrieve the coefficients from the model.params attribute\n",
    "coefficients = model.params\n",
    "print(coefficients)\n",
    "# store the coefficients into individual variables\n",
    "intercept = coefficients[0]\n",
    "slope_sst = coefficients[1]\n",
    "slope_wind = coefficients[2]\n",
    "\n",
    "# retrieve the R^2 value from the models.rsquared attribute\n",
    "r2 = model.rsquared\n"
   ]
  },
  {
   "cell_type": "markdown",
   "id": "5990c8fd-fc87-4d7e-a6e8-de339fea97fa",
   "metadata": {},
   "source": [
    "Compute the modeled values from the coefficients"
   ]
  },
  {
   "cell_type": "code",
   "execution_count": 32,
   "id": "a1ded383-88b0-4709-9baf-ef4992bada2e",
   "metadata": {},
   "outputs": [],
   "source": [
    "# compute the modeled values\n",
    "modeled_values = slope_sst * sst_timeseries_subset[:,1] + slope_wind * wind_timeseries_subset[:,1] + intercept"
   ]
  },
  {
   "cell_type": "markdown",
   "id": "859bacfc-ba2a-4f1f-a9b5-a4944cc8502c",
   "metadata": {},
   "source": [
    "## Plot the model results\n",
    "Create a plot of the modeled values vs the expected (observed) values"
   ]
  },
  {
   "cell_type": "code",
   "execution_count": 42,
   "id": "ecdfe895-87be-47ef-add0-9ac7884b5c43",
   "metadata": {},
   "outputs": [
    {
     "data": {
      "text/plain": [
       "(0.0, 1.8)"
      ]
     },
     "execution_count": 42,
     "metadata": {},
     "output_type": "execute_result"
    },
    {
     "data": {
      "image/png": "[encoded data removed]",
      "text/plain": [
       "<Figure size 640x480 with 1 Axes>"
      ]
     },
     "metadata": {},
     "output_type": "display_data"
    }
   ],
   "source": [
    "# plot the modeled vs observed values\n",
    "plt.plot(modeled_values, chl_timeseries_subset[:,1], 'g.')\n",
    "\n",
    "# label the x and y axis\n",
    "plt.xlabel('Modeled Chl. (mg/cm$^3$)')\n",
    "plt.ylabel('Observed Chl. (mg/cm$^3$)')\n",
    "\n",
    "# add a label for the R^2\n",
    "plt.text(1.4, 0.2, 'R$^2$ = ' + '{:.3f}'.format(r2))\n",
    "\n",
    "# plot the 1-1 line\n",
    "plt.plot([0, 1.8], [0, 1.8], 'k--')\n",
    "\n",
    "# make the axes equal\n",
    "plt.gca().set_xlim([0, 1.8])\n",
    "plt.gca().set_ylim([0, 1.8])\n",
    "\n",
    "# show the plot\n"
   ]
  },
  {
   "cell_type": "code",
   "execution_count": null,
   "id": "c65ddbab-d9a2-44ee-873b-bc1c1440626d",
   "metadata": {},
   "outputs": [],
   "source": []
  }
 ],
 "metadata": {
  "kernelspec": {
   "display_name": "ms274",
   "language": "python",
   "name": "ms274"
  },
  "language_info": {
   "codemirror_mode": {
    "name": "ipython",
    "version": 3
   },
   "file_extension": ".py",
   "mimetype": "text/x-python",
   "name": "python",
   "nbconvert_exporter": "python",
   "pygments_lexer": "ipython3",
   "version": "3.10.12"
  }
 },
 "nbformat": 4,
 "nbformat_minor": 5
}
