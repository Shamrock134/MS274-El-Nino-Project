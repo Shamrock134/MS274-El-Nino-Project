{
 "cells": [
  {
   "cell_type": "code",
   "execution_count": 1,
   "id": "3cb9f554-076d-4cf0-91cb-a6d7b2a79b71",
   "metadata": {},
   "outputs": [],
   "source": [
    "import requests\n",
    "import os\n",
    "from subscriber import podaac_data_downloader as pdd\n",
    "from subscriber import podaac_access as pa\n",
    "import argparse"
   ]
  },
  {
   "cell_type": "markdown",
   "id": "34989e05-15a5-4759-9930-54d255ed56ff",
   "metadata": {},
   "source": [
    "# Downloading Data from PODAAC\n",
    "This notebook provides the functionality to download a set of files from JPL's Physical Oceanography DAAC. Info detailing how these scripts work can be found on the github page here: https://github.com/podaac/data-subscriber/tree/main\n",
    "\n",
    "### Import the modules used in this notebook"
   ]
  },
  {
   "cell_type": "markdown",
   "id": "2ca1a568-db05-43a6-9855-6d4ae4e9bf1a",
   "metadata": {},
   "source": [
    "### User Inputs\n",
    "Edit this section to define your search query."
   ]
  },
  {
   "cell_type": "code",
   "execution_count": 2,
   "id": "67398b75-f002-4f0b-aca3-30b7eeefca33",
   "metadata": {},
   "outputs": [],
   "source": [
    "# define an output folder\n",
    "data_path = 'C:\\\\Users\\\\seamu\\\\ms274\\\\week6_sst\\\\ms274_hw6\\\\AVHRR'\n",
    "\n",
    "# define a collection e.g.:\n",
    "# MUR SST: MUR25-JPL-L4-GLOB-v04.2\n",
    "# SMAP SSS: SMAP_JPL_L3_SSS_CAP_MONTHLY_V5\n",
    "#short_name = 'MUR25-JPL-L4-GLOB-v04.2'\n",
    "short_name ='AVHRR_OI-NCEI-L4-GLOB-v2.0'\n",
    "# define a start time\n",
    "# must be in this format:\n",
    "start_date_time = '1982-05-01T00:00:00Z'\n",
    "\n",
    "# define a start time\n",
    "# must be in this format:\n",
    "end_date_time = '1983-04-30T00:00:00Z'"
   ]
  },
  {
   "cell_type": "markdown",
   "id": "bbb87e58-ed5a-43ff-887b-d77634099782",
   "metadata": {},
   "source": [
    "### Creating the Download Arguments\n",
    "No need to edit this section - just run the cell"
   ]
  },
  {
   "cell_type": "code",
   "execution_count": 3,
   "id": "3220dc54-ada5-4a9e-ba28-aaccf2e0508e",
   "metadata": {},
   "outputs": [],
   "source": [
    "# create a parser object from the \n",
    "parser = pdd.create_parser()\n",
    "args = parser.parse_args(['-c',short_name, '-d',data_path,\n",
    "                          '-sd',start_date_time, '-ed',end_date_time])"
   ]
  },
  {
   "cell_type": "markdown",
   "id": "388bb477-7ce0-4b4f-8671-ff70f2045dfa",
   "metadata": {},
   "source": [
    "### Run the downloading script\n",
    "The `run` method will download the files found in the PODAAC database. Nothing will print in the Jupyter notebook but the files will show up in the download folder you created above."
   ]
  },
  {
   "cell_type": "code",
   "execution_count": 4,
   "id": "39968864-ab6a-4495-83e3-ce040d85b42a",
   "metadata": {},
   "outputs": [],
   "source": [
    "# run the downloading script\n",
    "pdd.run(args)"
   ]
  },
  {
   "cell_type": "code",
   "execution_count": null,
   "id": "bebf27a2-f1c1-47c1-9663-566a0855f54d",
   "metadata": {},
   "outputs": [],
   "source": []
  }
 ],
 "metadata": {
  "kernelspec": {
   "display_name": "ms274",
   "language": "python",
   "name": "ms274"
  },
  "language_info": {
   "codemirror_mode": {
    "name": "ipython",
    "version": 3
   },
   "file_extension": ".py",
   "mimetype": "text/x-python",
   "name": "python",
   "nbconvert_exporter": "python",
   "pygments_lexer": "ipython3",
   "version": "3.10.12"
  }
 },
 "nbformat": 4,
 "nbformat_minor": 5
}
