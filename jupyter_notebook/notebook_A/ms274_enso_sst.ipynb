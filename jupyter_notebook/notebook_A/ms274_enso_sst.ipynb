{
 "cells": [
  {
   "cell_type": "markdown",
   "id": "0ba9c730-7c97-4b28-b8f0-e651a93fc182",
   "metadata": {},
   "source": [
    "#### Import the Modules and Set Up Your Paths"
   ]
  },
  {
   "cell_type": "code",
   "execution_count": 133,
   "id": "4cb368be-cdb6-4dc7-a446-b6a5395914cb",
   "metadata": {},
   "outputs": [],
   "source": [
    "# import the numpy, matplotlib, netcdf4 and os modules\n",
    "import netCDF4 as nc4\n",
    "import numpy as np\n",
    "import matplotlib.pyplot as plt\n",
    "import os\n",
    "import datetime as dt"
   ]
  },
  {
   "cell_type": "code",
   "execution_count": 134,
   "id": "4ec4073b-f8fe-4764-b6b1-32b53fd52ba2",
   "metadata": {},
   "outputs": [],
   "source": [
    "# set a path to where your homework 7 data files will live\n",
    "# you will want to store data on an external drive because\n",
    "# it will take up a lot of room\n",
    "sst_local_folder = 'C:\\\\Users\\\\seamu\\\\ms274\\\\week6_sst\\\\ms274_hw6\\\\AVHRR'\n",
    "\n",
    "# define a location in the NINO3.4 region\n",
    "# this region is used as an indicator for ENSO events\n",
    "#site_longitude = -140\n",
    "#site_latitude = 0"
   ]
  },
  {
   "cell_type": "markdown",
   "id": "5c474d27-5719-48d5-b258-eedaa9642e9b",
   "metadata": {},
   "source": [
    "- MUR25-JPL-L4-GLOB-v04.2"
   ]
  },
  {
   "cell_type": "markdown",
   "id": "819cc76d-43b6-4926-97d2-c3bbe6ad6867",
   "metadata": {},
   "source": [
    "#### Make a list of SST data files"
   ]
  },
  {
   "cell_type": "code",
   "execution_count": 135,
   "id": "de4ccb97-d841-4207-800b-bef005263893",
   "metadata": {},
   "outputs": [
    {
     "name": "stdout",
     "output_type": "stream",
     "text": [
      "100\n"
     ]
    }
   ],
   "source": [
    "# create an empty list to store the files\n",
    "sst_nc_files = []\n",
    "\n",
    "# write a for loop to loop through the files\n",
    "for sst_file_name in os.listdir(sst_local_folder):\n",
    "    \n",
    "\n",
    "    # if the file is an nc file from SMAP\n",
    "    if sst_file_name[-2:] == 'nc':\n",
    "        sst_nc_files.append(sst_file_name)\n",
    "        #print(sst_file_name)\n",
    "# sort the file list\n",
    "sst_nc_files.sort()\n",
    "#print(sst_nc_files)\n",
    "sst_nc_files = sst_nc_files[:100]\n",
    "# print the number of files that are found\n",
    "print(len(sst_nc_files))"
   ]
  },
  {
   "cell_type": "markdown",
   "id": "e45e0a17-fdaa-4d4d-b011-9a679b7b2284",
   "metadata": {},
   "source": [
    "#### Make a function to read SST files"
   ]
  },
  {
   "cell_type": "code",
   "execution_count": 136,
   "id": "0872e953-0f4c-4347-9827-7fb2e742848a",
   "metadata": {},
   "outputs": [],
   "source": [
    "# define the read_SST_from_file function hereprint()\n",
    "def read_SST_from_file(sst_file_path):\n",
    "\n",
    "    dsst = nc4.Dataset(sst_file_path)\n",
    "    \n",
    "    sst_longitude = np.array(dsst.variables['lon'])\n",
    "    sst_latitude = np.array(dsst.variables['lat'])\n",
    "    analysed_sst_3d = np.array(dsst.variables['analysed_sst'])\n",
    "    analysed_sst = analysed_sst_3d.reshape(720,1440)\n",
    "        \n",
    "    dsst.close()\n",
    "\n",
    "    sst_nino_longitude = -140\n",
    "    sst_nino_latitude = 0\n",
    "\n",
    "\n",
    "    sst_long_index = np.argmin(np.abs(sst_longitude-sst_nino_longitude))\n",
    "    sst_lat_index = np.argmin(np.abs(sst_latitude-sst_nino_latitude))\n",
    "\n",
    "    nino_sst = analysed_sst[sst_lat_index, sst_long_index]\n",
    "    return(nino_sst)\n"
   ]
  },
  {
   "cell_type": "markdown",
   "id": "a31c771e-2ce0-42b2-a394-76384cfc0bc2",
   "metadata": {},
   "source": [
    "#### Make an array of dates for the SST timeseries"
   ]
  },
  {
   "cell_type": "code",
   "execution_count": 137,
   "id": "8042f1c2-d4bc-4e22-bbf2-4fd16545e411",
   "metadata": {},
   "outputs": [],
   "source": [
    "# make an empty list for strings storing the date\n",
    "sst_date_list = []\n",
    "\n",
    "# loop through the file name\n",
    "for sst_file_name in sst_nc_files:\n",
    "    #print(sst_file_name)\n",
    "    # split the file name and retrieve the year and month strings\n",
    "    sst_year = sst_file_name.split('_')[0][0:4]\n",
    "    sst_month = sst_file_name.split('_')[0][4:6]\n",
    "    sst_day = sst_file_name.split('_')[0][6:8]\n",
    "\n",
    "    # join the year, month, and day strings with dashes\n",
    "    # and add the date string to the date_list\n",
    "    sst_date_string = sst_year+'-'+ sst_month+'-'+ sst_day\n",
    "    sst_date_list.append(sst_date_string)\n",
    "        \n",
    "#print(sst_date_list)\n",
    "# convert the date list to array with the keyword dtype='datetime64'\n",
    "sst_date_array = np.array(sst_date_list, dtype ='datetime64')\n",
    "#print(sst_date_array)\n",
    "#print(len(sst_date_array))\n"
   ]
  },
  {
   "cell_type": "code",
   "execution_count": 138,
   "id": "6e116b0b-e887-4360-a09b-cd5fa5fd36f9",
   "metadata": {},
   "outputs": [],
   "source": [
    "#sss_values_array = np.array(sss_values)\n",
    "#print(sss_values_array)\n",
    "#print(len(sss_values_array))\n",
    "#sss_values_array(!= -9999)\n",
    "#sss_values_filtered = np.delete(sss_values_array, np.where(sss_values_array ==-9999.0))\n",
    "#print(sss_values_filtered)\n",
    "#print(len(sss_values_filtered))"
   ]
  },
  {
   "cell_type": "markdown",
   "id": "1303b927-db38-473e-b62b-007bfe710b97",
   "metadata": {},
   "source": [
    "#### Make a list of SST values"
   ]
  },
  {
   "cell_type": "code",
   "execution_count": 139,
   "id": "9c092215-81f8-4726-bee1-7a406f4a271e",
   "metadata": {},
   "outputs": [],
   "source": [
    "# make an empty list for the sss values\n",
    "sst_values = []\n",
    "\n",
    "# loop through the file names\n",
    "for sst_file_name in sst_nc_files:\n",
    "    \n",
    "    # define a file path\n",
    "    sst_file_path = sst_local_folder + '\\\\' + sst_file_name\n",
    "\n",
    "    # use the sss function to find the sss value for this file\n",
    "    sst = read_SST_from_file(sst_file_path)\n",
    "\n",
    "    # add the sss value to the list\n",
    "    sst_values.append(sst)\n",
    "\n",
    "kelvin = 273.15\n",
    "sst_values_array = np.array(sst_values)\n",
    "sst_values_celcius = sst_values_array - kelvin\n",
    "#print(sst_values_celcius)\n",
    "#print(len(sst_values_celcius))"
   ]
  },
  {
   "cell_type": "code",
   "execution_count": 140,
   "id": "2aa19af3-8922-4c0e-9c2f-8d7e9f7a4459",
   "metadata": {},
   "outputs": [
    {
     "data": {
      "image/png": "[encoded data removed]",
      "text/plain": [
       "<Figure size 1000x400 with 1 Axes>"
      ]
     },
     "metadata": {},
     "output_type": "display_data"
    }
   ],
   "source": [
    "# make a figure of width 10 and height 4\n",
    "fig = plt.figure(figsize=(10,4))\n",
    "# plot the timeseries\n",
    "plt.plot(sst_date_array, sst_values_celcius)\n",
    "\n",
    "# label the y axis with the units\n",
    "plt.title('SST @ 140$^{o}$W, 0$^{o}$ (June 2015 - June 2023)', fontsize='16', weight = 'bold')\n",
    "plt.gca().set_ylabel('SST ($^{o}$C)', fontsize='14', weight = 'bold')\n",
    "plt.gca().set_xlabel('Time', fontsize='14', weight = 'bold')\n",
    "\n",
    "# add grid lines\n",
    "plt.grid(linestyle = '--', linewidth = 0.5, alpha = 0.5)\n"
   ]
  },
  {
   "cell_type": "code",
   "execution_count": 141,
   "id": "220b361e-43b4-4a3f-824a-621d05ec9276",
   "metadata": {},
   "outputs": [
    {
     "name": "stdout",
     "output_type": "stream",
     "text": [
      "dict_keys(['analysed_sst', 'analysis_error', 'lat', 'lon', 'mask', 'sea_ice_fraction', 'time', 'lat_bnds', 'lon_bnds', 'time_bnds'])\n"
     ]
    }
   ],
   "source": [
    "sst_path = 'C:\\\\Users\\\\seamu\\\\ms274\\\\week6_sst\\\\ms274_hw6\\\\AVHRR\\\\19980610120000-NCEI-L4_GHRSST-SSTblend-AVHRR_OI-GLOB-v02.0-fv02.0.nc'\n",
    "dm = nc4.Dataset(sst_path)\n",
    "print(dm.variables.keys())"
   ]
  },
  {
   "cell_type": "code",
   "execution_count": 106,
   "id": "9a3ad5f2-c456-41fe-867e-54ed990ceaaf",
   "metadata": {},
   "outputs": [
    {
     "name": "stdout",
     "output_type": "stream",
     "text": [
      "<class 'netCDF4._netCDF4.Variable'>\n",
      "float32 lon(lon)\n",
      "    long_name: longitude\n",
      "    standard_name: longitude\n",
      "    axis: X\n",
      "    units: degrees_east\n",
      "    comment: Uniform grid with centers from -179.875 to 179.875 by 0.25 degrees.\n",
      "    bounds: lon_bnds\n",
      "    valid_max: 180.0\n",
      "    valid_min: -180.0\n",
      "unlimited dimensions: \n",
      "current shape = (1440,)\n",
      "filling on, default _FillValue of 9.969209968386869e+36 used\n"
     ]
    }
   ],
   "source": [
    "print(dm.variables['lon'])"
   ]
  },
  {
   "cell_type": "code",
   "execution_count": 107,
   "id": "06f1202b-bde4-43e6-89de-bf7590702216",
   "metadata": {},
   "outputs": [
    {
     "name": "stdout",
     "output_type": "stream",
     "text": [
      "<class 'netCDF4._netCDF4.Variable'>\n",
      "float32 lat(lat)\n",
      "    long_name: latitude\n",
      "    standard_name: latitude\n",
      "    axis: Y\n",
      "    units: degrees_north\n",
      "    comment: Uniform grid with centers from -89.875 to 89.875 by 0.25 degrees.\n",
      "    bounds: lat_bnds\n",
      "    valid_max: 90.0\n",
      "    valid_min: -90.0\n",
      "unlimited dimensions: \n",
      "current shape = (720,)\n",
      "filling on, default _FillValue of 9.969209968386869e+36 used\n"
     ]
    }
   ],
   "source": [
    "print(dm.variables['lat'])"
   ]
  },
  {
   "cell_type": "code",
   "execution_count": 108,
   "id": "e16fc37f-d9c3-4306-b9b6-4586bd1e2fb4",
   "metadata": {
    "scrolled": true
   },
   "outputs": [
    {
     "name": "stdout",
     "output_type": "stream",
     "text": [
      "<class 'netCDF4._netCDF4.Variable'>\n",
      "int16 analysed_sst(time, lat, lon)\n",
      "    long_name: analysed sea surface temperature\n",
      "    standard_name: sea_surface_temperature\n",
      "    units: kelvin\n",
      "    _FillValue: -32768\n",
      "    add_offset: 273.15\n",
      "    scale_factor: 0.01\n",
      "    valid_min: -300\n",
      "    valid_max: 4500\n",
      "    comment: Single-sensor Pathfinder 5.0/5.1 AVHRR SSTs used until 2005; two AVHRRs at a time are used 2007 onward. Sea ice and in-situ data used also are 'near real time' quality for recent period.  SST (bulk) is at ambiguous depth because multiple types of observations are used.\n",
      "    source: AVHRR_Pathfinder-NODC-L3C-v5.0,ICOADS_SHIP-NCAR-IN_SITU-v2.4,ICOADS_BUOY-NCAR-IN_SITU-v2.4,GSFC_25KM-NSIDC-ICE\n",
      "unlimited dimensions: time\n",
      "current shape = (1, 720, 1440)\n",
      "filling on\n"
     ]
    }
   ],
   "source": [
    "print(dm.variables['analysed_sst'])"
   ]
  },
  {
   "cell_type": "code",
   "execution_count": 109,
   "id": "73b699c1-36f2-45ec-bb22-d459d9cce57f",
   "metadata": {},
   "outputs": [
    {
     "name": "stdout",
     "output_type": "stream",
     "text": [
      "(1, 720, 1440)\n",
      "(720, 1440)\n"
     ]
    }
   ],
   "source": [
    "analysed_sst_3d = np.array(dm.variables['analysed_sst'])\n",
    "print(np.shape(analysed_sst_3d))\n",
    "analysed_sst_2d = analysed_sst_3d.reshape(720,1440)\n",
    "print(np.shape(analysed_sst_2d))"
   ]
  },
  {
   "cell_type": "code",
   "execution_count": 110,
   "id": "d4ded611-edff-44bc-a9a6-0bd7b3071cd1",
   "metadata": {},
   "outputs": [
    {
     "name": "stdout",
     "output_type": "stream",
     "text": [
      "<class 'netCDF4._netCDF4.Variable'>\n",
      "int16 analysis_error(time, lat, lon)\n",
      "    long_name: estimated error standard deviation of analysed_sst\n",
      "    units: kelvin\n",
      "    _FillValue: -32768\n",
      "    add_offset: 0.0\n",
      "    scale_factor: 0.01\n",
      "    valid_min: 0\n",
      "    valid_max: 32767\n",
      "    comment: Sum of bias, sampling and random errors.\n",
      "unlimited dimensions: time\n",
      "current shape = (1, 720, 1440)\n",
      "filling on\n"
     ]
    }
   ],
   "source": [
    "print(dm.variables['analysis_error'])"
   ]
  },
  {
   "cell_type": "code",
   "execution_count": 111,
   "id": "37357ea6-8257-41f8-8ba0-6b08c4ac8623",
   "metadata": {},
   "outputs": [
    {
     "name": "stdout",
     "output_type": "stream",
     "text": [
      "<class 'netCDF4._netCDF4.Variable'>\n",
      "int8 mask(time, lat, lon)\n",
      "    long_name: sea/land field composite mask\n",
      "    _FillValue: -128\n",
      "    flag_meanings: water land\n",
      "    comment: Binary mask distinguishing water and land only.\n",
      "    flag_masks: [1 2]\n",
      "    source: RWReynolds_landmask_V1.0\n",
      "    valid_max: 2\n",
      "    valid_min: 1\n",
      "unlimited dimensions: time\n",
      "current shape = (1, 720, 1440)\n",
      "filling on\n"
     ]
    }
   ],
   "source": [
    "print(dm.variables['mask'])"
   ]
  },
  {
   "cell_type": "code",
   "execution_count": 112,
   "id": "8f6777b9-1e1b-449b-b87a-2a54ccaa3364",
   "metadata": {},
   "outputs": [
    {
     "name": "stdout",
     "output_type": "stream",
     "text": [
      "<class 'netCDF4._netCDF4.Variable'>\n",
      "int8 sea_ice_fraction(time, lat, lon)\n",
      "    long_name: sea ice area fraction\n",
      "    _FillValue: -128\n",
      "    add_offset: 0.0\n",
      "    scale_factor: 0.01\n",
      "    valid_min: 0\n",
      "    valid_max: 100\n",
      "    standard_name: sea_ice_area_fraction\n",
      "    units: 1\n",
      "    comment: 7-day median filtered .  Switch from 25 km NASA team ice (http://nsidc.org/data/nsidc-0051.html)  to 50 km NCEP ice (http://polar.ncep.noaa.gov/seaice) after 2004 results in artificial increase in ice coverage.\n",
      "    source: GSFC_25KM-NSIDC-ICE\n",
      "unlimited dimensions: time\n",
      "current shape = (1, 720, 1440)\n",
      "filling on\n"
     ]
    }
   ],
   "source": [
    "print(dm.variables['sea_ice_fraction'])"
   ]
  },
  {
   "cell_type": "code",
   "execution_count": 113,
   "id": "39a4072c-d816-45c4-b931-003c3e680a68",
   "metadata": {},
   "outputs": [
    {
     "name": "stdout",
     "output_type": "stream",
     "text": [
      "<class 'netCDF4._netCDF4.Variable'>\n",
      "int32 time(time)\n",
      "    long_name: reference time of sst field\n",
      "    standard_name: time\n",
      "    axis: T\n",
      "    units: seconds since 1981-01-01 00:00:00\n",
      "    bounds: time_bnds\n",
      "    calendar: gregorian\n",
      "    comment: Nominal time because observations are from different sources and are made at different times of the day.\n",
      "unlimited dimensions: time\n",
      "current shape = (1,)\n",
      "filling on, default _FillValue of -2147483647 used\n"
     ]
    }
   ],
   "source": [
    "print(dm.variables['time'])"
   ]
  },
  {
   "cell_type": "code",
   "execution_count": 114,
   "id": "2810843a-5dfa-49b0-a448-a9d0a18918d3",
   "metadata": {},
   "outputs": [
    {
     "name": "stdout",
     "output_type": "stream",
     "text": [
      "<class 'netCDF4._netCDF4.Variable'>\n",
      "float32 lat_bnds(lat, nv)\n",
      "    comment: This variable defines the latitude values at the north and south bounds of every 0.25-degree pixel.\n",
      "unlimited dimensions: \n",
      "current shape = (720, 2)\n",
      "filling on, default _FillValue of 9.969209968386869e+36 used\n"
     ]
    }
   ],
   "source": [
    "print(dm.variables['lat_bnds'])"
   ]
  },
  {
   "cell_type": "code",
   "execution_count": 115,
   "id": "00903d26-61d9-47f6-afc2-d66677dbe575",
   "metadata": {},
   "outputs": [
    {
     "name": "stdout",
     "output_type": "stream",
     "text": [
      "<class 'netCDF4._netCDF4.Variable'>\n",
      "float32 lon_bnds(lon, nv)\n",
      "    comment: This variable defines the longitude values at the west and east bounds of every 0.25-degree pixel.\n",
      "unlimited dimensions: \n",
      "current shape = (1440, 2)\n",
      "filling on, default _FillValue of 9.969209968386869e+36 used\n"
     ]
    }
   ],
   "source": [
    "print(dm.variables['lon_bnds'])"
   ]
  },
  {
   "cell_type": "code",
   "execution_count": 116,
   "id": "9f5aa473-16f6-404c-92dd-fe0fbe939ec1",
   "metadata": {},
   "outputs": [
    {
     "name": "stdout",
     "output_type": "stream",
     "text": [
      "<class 'netCDF4._netCDF4.Variable'>\n",
      "int32 time_bnds(time, nv)\n",
      "    comment: This variable defines the start and end of the time span for the data.\n",
      "unlimited dimensions: time\n",
      "current shape = (1, 2)\n",
      "filling on, default _FillValue of -2147483647 used\n"
     ]
    }
   ],
   "source": [
    "print(dm.variables['time_bnds'])"
   ]
  },
  {
   "cell_type": "code",
   "execution_count": 117,
   "id": "0f1231cb-3646-45d4-8525-5cc65ca923e4",
   "metadata": {},
   "outputs": [
    {
     "name": "stdout",
     "output_type": "stream",
     "text": [
      "(1440,)\n",
      "(720,)\n",
      "(1, 720, 1440)\n"
     ]
    }
   ],
   "source": [
    "# store the longitude, latitude, and smap_sss as numpy arrays\n",
    "longitude = np.array(dm.variables['lon'])\n",
    "latitude = np.array(dm.variables['lat'])\n",
    "analysed_sst = np.array(dm.variables['analysed_sst'])\n",
    "# check the shapes of each numpy array\n",
    "print(np.shape(longitude))\n",
    "print(np.shape(latitude))\n",
    "print(np.shape(analysed_sst))"
   ]
  },
  {
   "cell_type": "code",
   "execution_count": 118,
   "id": "f6554646-1449-4b85-8c8f-e9ed81626a49",
   "metadata": {},
   "outputs": [
    {
     "data": {
      "text/plain": [
       "<function matplotlib.pyplot.show(close=None, block=None)>"
      ]
     },
     "execution_count": 118,
     "metadata": {},
     "output_type": "execute_result"
    },
    {
     "data": {
      "image/png": "[encoded data removed]",
      "text/plain": [
       "<Figure size 1000x400 with 1 Axes>"
      ]
     },
     "metadata": {},
     "output_type": "display_data"
    }
   ],
   "source": [
    "# make a new figure object with width 10 and height 4\n",
    "fig = plt.figure(figsize=(10,4))\n",
    "\n",
    "# plot the longitude variable\n",
    "plt.plot(longitude)\n",
    "\n",
    "# show the plot \n",
    "plt.show"
   ]
  },
  {
   "cell_type": "code",
   "execution_count": 119,
   "id": "db180014-cb59-4c79-ab25-9d92afcdbe53",
   "metadata": {},
   "outputs": [
    {
     "data": {
      "text/plain": [
       "<function matplotlib.pyplot.show(close=None, block=None)>"
      ]
     },
     "execution_count": 119,
     "metadata": {},
     "output_type": "execute_result"
    },
    {
     "data": {
      "image/png": "[encoded data removed]",
      "text/plain": [
       "<Figure size 1000x400 with 1 Axes>"
      ]
     },
     "metadata": {},
     "output_type": "display_data"
    }
   ],
   "source": [
    "# make a new figure object with width 10 and height 4\n",
    "fig = plt.figure(figsize=(10,4))\n",
    "\n",
    "# plot the longitude variable\n",
    "plt.plot(latitude)\n",
    "\n",
    "# show the plot \n",
    "plt.show"
   ]
  },
  {
   "cell_type": "code",
   "execution_count": null,
   "id": "92bc0f59-fd9d-4783-9885-5a15b18bfba0",
   "metadata": {},
   "outputs": [],
   "source": []
  }
 ],
 "metadata": {
  "kernelspec": {
   "display_name": "ms274",
   "language": "python",
   "name": "ms274"
  },
  "language_info": {
   "codemirror_mode": {
    "name": "ipython",
    "version": 3
   },
   "file_extension": ".py",
   "mimetype": "text/x-python",
   "name": "python",
   "nbconvert_exporter": "python",
   "pygments_lexer": "ipython3",
   "version": "3.10.12"
  }
 },
 "nbformat": 4,
 "nbformat_minor": 5
}
